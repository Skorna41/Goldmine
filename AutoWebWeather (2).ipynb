{
 "cells": [
  {
   "cell_type": "code",
   "execution_count": null,
   "id": "80f72967-2d84-4485-8482-436f547d81be",
   "metadata": {},
   "outputs": [],
   "source": [
    "from bs4 import BeautifulSoup\n",
    "import requests\n",
    "import pandas as pd\n",
    "import os, re\n",
    "from datetime import datetime\n",
    "import time"
   ]
  },
  {
   "cell_type": "code",
   "execution_count": 9,
   "id": "3d59fd5a-3335-44ba-94b0-222ed1c9f2ef",
   "metadata": {},
   "outputs": [],
   "source": [
    "def auto_weather_pull():\n",
    "    url = r'https://forecast.weather.gov/MapClick.php?x=242&y=97&site=lot&zmx=&zmy=&map_x=242&map_y=97'\n",
    "     \n",
    "    requests.get(url)\n",
    "    \n",
    "    page = requests.get(url)\n",
    "    \n",
    "    soup = BeautifulSoup(page.text,'html.parser')\n",
    "\n",
    "    date_time = datetime.now()\n",
    "    \n",
    "    temperature = soup.find('p', class_ = 'myforecast-current-lrg').text\n",
    "    cloud_coverage = soup.find('p', class_= 'myforecast-current').text\n",
    "\n",
    "      \n",
    "        # Dictionaries to store extracted data\n",
    "    data = {}\n",
    "    data['Temperature'] = None\n",
    "    data['Humidity'] = None  \n",
    "    data['Last Update'] = None\n",
    "    data['Cloud coverage'] = None\n",
    "       \n",
    "    # Extract data using defined variables and regular experisson\n",
    "    if temperature:\n",
    "      data['Temperature'] = temperature\n",
    "\n",
    "    if cloud_coverage:\n",
    "        data['Cloud coverage'] = cloud_coverage\n",
    "    \n",
    "    humidity_element = soup.select('td:contains(\"%\")')[0]\n",
    "    humidity_match = re.search(r'\\d+%', humidity_element.text)\n",
    "    if humidity_match:\n",
    "      data['Humidity'] = humidity_match.group()\n",
    "\n",
    "       \n",
    "    last_update_element = soup.select('td:contains(\"CDT\")')[0]\n",
    "    data['Last Update'] = last_update_element.text.strip()\n",
    "    \n",
    "    \n",
    "    # Create a pandas DataFrame from the dictionary\n",
    "    df = pd.DataFrame([data])\n",
    "    \n",
    "    if os.path.exists(r'C:\\Users\\chast\\OneDrive\\Desktop\\Pandas\\Chicago Weather\\weather_trackers.csv'):\n",
    "            df.to_csv(r'C:\\Users\\chast\\OneDrive\\Desktop\\Pandas\\Chicago Weather\\weather_trackers.csv', mode = 'a', header = False, index = False)\n",
    "    else:\n",
    "            df.to_csv(r'C:\\Users\\chast\\OneDrive\\Desktop\\Pandas\\Chicago Weather\\weather_trackers.csv', index = False)\n",
    "     \n",
    "    "
   ]
  },
  {
   "cell_type": "code",
   "execution_count": null,
   "id": "d65ac734-5f65-4617-bb5a-61f18c9c8c57",
   "metadata": {},
   "outputs": [],
   "source": [
    "while True:\n",
    "    auto_weather_pull()\n",
    "    time.sleep(1000)"
   ]
  },
  {
   "cell_type": "code",
   "execution_count": null,
   "id": "810c47f0-0e73-4dbd-8e05-66aac9f18b92",
   "metadata": {},
   "outputs": [],
   "source": [
    "### Automatic puller designed to gather data on Chicago's weather. This data would be beneficial to a previous capstone project\n",
    "### A bike rental company based in Chicago\n",
    "### Hourly tracking could allow for better insights on useage and marketing\n"
   ]
  }
 ],
 "metadata": {
  "kernelspec": {
   "display_name": "Python 3 (ipykernel)",
   "language": "python",
   "name": "python3"
  },
  "language_info": {
   "codemirror_mode": {
    "name": "ipython",
    "version": 3
   },
   "file_extension": ".py",
   "mimetype": "text/x-python",
   "name": "python",
   "nbconvert_exporter": "python",
   "pygments_lexer": "ipython3",
   "version": "3.11.7"
  }
 },
 "nbformat": 4,
 "nbformat_minor": 5
}
