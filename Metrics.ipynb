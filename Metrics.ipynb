{
 "cells": [
  {
   "cell_type": "code",
   "execution_count": null,
   "id": "2b8a6786-4ddf-45f7-981a-2327eda11a54",
   "metadata": {},
   "outputs": [],
   "source": [
    "convert_from = input(\"Enter starting unit of measurement(Kilometer, Meter, Centimeter): \")\n",
    "\n",
    "convert_to = input(\"Enter unit of measurement to convert to(Miles, Feet, Inches): \")\n",
    "\n",
    "number_of_inches = input(\"Enter starting measurement in Inches: \")\n",
    "\n",
    "number_of_feet = input(\"Enter starting measurement in Feet: \")\n",
    "\n",
    "number_of_miles = input(\"Enter starting measurement in Miles: \")\n",
    "\n",
    "number_of_kilometers = input(\"Enter starting measurement in Kilometers: \")\n",
    "\n",
    "number_of_meters = input(\"Enter starting measurement in Meters: \")\n",
    "\n",
    "number_of_centimeter = input(\"Enter starting measurement in Centimeters: \")\n",
    "\n",
    "\n"
   ]
  },
  {
   "cell_type": "code",
   "execution_count": null,
   "id": "22dfbf05-0fe1-4d9b-bdac-ebfa5938c419",
   "metadata": {},
   "outputs": [],
   "source": [
    "convert_from = input(\"Enter starting unit of measurement(Kilometer, Meter, Centimeter): \")\n",
    "\n",
    "convert_to = input(\"Enter unit of measurement to convert to(Miles, feet, Inches): \")\n",
    "\n",
    "if convert_from.lower() in ['kilometer','kilo','k']:\n",
    "    number_of_kilometers = float(input(\"Enter starting measurement in kilometers: \"))\n",
    "    if convert_to.lower() in ['miles','mile','m']:\n",
    "        print('Results: ' + str(number_of_kilometers) + \" kilometers = \" + str(round(number_of_kilometers / 1.61,2)) + 'miles')\n",
    "    elif convert_to.lower() in ['feet','ft','foot']:\n",
    "        print('Results: ' + str(number_of_kilometers) + \" kilometers = \" + str(round(number_of_kilometers * 3280.1,2)) + 'feet')\n",
    "    elif convert_to.lower() in ['inches','in','inch']:\n",
    "        print('Results: ' + str(number_of_kilometers) + \" kilometers = \" + str(round(number_of_kilometers * 39370.1,2)) + 'inches')\n",
    "    else:\n",
    "        print('Invalid Input')\n",
    "if convert_from.lower() in ['meter','meters','m']:\n",
    "    number_of_meters = float(input(\"Enter starting measurement in Meters: \"))\n",
    "    if convert_to.lower() in ['miles','mile','mi']:\n",
    "            print('Results: ' + str(number_of_meters) + \" meters = \" + str(round(number_of_meters / 1609.34,2)) + 'miles')\n",
    "    elif convert_to.lower() in ['feet','ft','foot']:\n",
    "            print('Results: ' + str(number_of_meters) + \" meters = \" + str(round(number_of_meters * 3.28,2)) + 'feet')\n",
    "    elif convert_to.lower() in ['inches','in','inch']:\n",
    "            print('Results: ' + str(number_of_meters) + \" meters = \" + str(round(number_of_meters * 39.26,2)) + 'inches')\n",
    "    else:\n",
    "        print('Invalid Input')\n",
    "if convert_from.lower() in ['centimeter','centi','cm','centimeters']:\n",
    "    number_of_meters = float(input(\"Enter starting measurement in Centimeters: \"))\n",
    "    if convert_to.lower() in ['miles','mile','mi']:\n",
    "            print('Results: ' + str(number_of_meters) + \" centimeters = \" + str(round(number_of_meters / 160900,2)) + ' miles')\n",
    "    elif convert_to.lower() in ['feet','ft','foot']:\n",
    "            print('Results: ' + str(number_of_meters) + \" centimeters = \" + str(round(number_of_meters * .0328,2)) + ' feet')\n",
    "    elif convert_to.lower() in ['inches','in','inch']:\n",
    "            print('Results: ' + str(number_of_meters) + \" centimeters = \" + str(round(number_of_meters * .3937,2)) + ' inches')\n",
    "\n"
   ]
  },
  {
   "cell_type": "code",
   "execution_count": null,
   "id": "38aea82f-8e6d-4497-8282-8ec515d9ba9f",
   "metadata": {},
   "outputs": [],
   "source": []
  }
 ],
 "metadata": {
  "kernelspec": {
   "display_name": "Python 3 (ipykernel)",
   "language": "python",
   "name": "python3"
  },
  "language_info": {
   "codemirror_mode": {
    "name": "ipython",
    "version": 3
   },
   "file_extension": ".py",
   "mimetype": "text/x-python",
   "name": "python",
   "nbconvert_exporter": "python",
   "pygments_lexer": "ipython3",
   "version": "3.11.7"
  }
 },
 "nbformat": 4,
 "nbformat_minor": 5
}
